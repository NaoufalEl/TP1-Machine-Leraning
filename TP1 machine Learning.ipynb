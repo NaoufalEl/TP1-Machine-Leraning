{
 "cells": [
  {
   "cell_type": "code",
   "execution_count": 7,
   "id": "012c4f8b",
   "metadata": {},
   "outputs": [],
   "source": [
    "#Pour lire les fichiers\n",
    "import pandas as pd\n",
    "import numpy as np\n",
    "\n",
    "#Pour créer notre diagramme\n",
    "import matplotlib.pyplot as plt\n",
    "import seaborn as sns\n",
    "import plotly.express as px\n",
    "from matplotlib import style\n",
    "style.use('ggplot')\n",
    "\n",
    "import re\n",
    "from nltk.tokenize import word_tokenize\n",
    "from nltk.stem import PorterStemmer\n",
    "from nltk.corpus import stopwords\n",
    "stop_words = set(stopwords.words('english'))\n",
    "from wordcloud import WordCloud\n",
    "from sklearn.feature_extraction.text import TfidfVectorizer\n",
    "from sklearn.model_selection import train_test_split\n",
    "\n"
   ]
  },
  {
   "cell_type": "code",
   "execution_count": 8,
   "id": "24cb62a3",
   "metadata": {},
   "outputs": [],
   "source": [
    "def read_pickle_file(file):\n",
    "    pickle_data = pd.read_pickle(file)\n",
    "    return pickle_data\n",
    "\n",
    "\n",
    "\n",
    "neg=read_pickle_file(r\"C:\\Users\\naouf\\OneDrive\\Bureau\\ML\\imdb_raw_neg.pickle\")\n",
    "pos=read_pickle_file(r\"C:\\Users\\naouf\\OneDrive\\Bureau\\ML\\imdb_raw_pos.pickle\")\n",
    "\n",
    "\n",
    "\n",
    "df_neg=pd.DataFrame(neg)\n",
    "df_neg.columns=[\"review\"]\n",
    "df_neg[\"sentiment\"]=\"Neg\"\n",
    "\n",
    "df_pos=pd.DataFrame(pos)\n",
    "df_pos.columns=[\"review\"]\n",
    "df_pos[\"sentiment\"]=\"Pos\"\n",
    "\n",
    "\n",
    "df=pd.concat([df_neg,df_pos])\n",
    "df=df.sample(frac=1)"
   ]
  },
  {
   "cell_type": "code",
   "execution_count": 9,
   "id": "a06b5b4b",
   "metadata": {},
   "outputs": [
    {
     "data": {
      "text/plain": [
       "Text(0.5, 1.0, 'Sentiment distribution')"
      ]
     },
     "execution_count": 9,
     "metadata": {},
     "output_type": "execute_result"
    },
    {
     "data": {
      "image/png": "[encoded data removed]",
      "text/plain": [
       "<Figure size 432x288 with 1 Axes>"
      ]
     },
     "metadata": {},
     "output_type": "display_data"
    }
   ],
   "source": [
    "sns.countplot(x='sentiment', data=df)\n",
    "plt.title(\"Sentiment distribution\")\n",
    "\n",
    "#On constate que les avis sont bien répartis de façons équivalente"
   ]
  },
  {
   "cell_type": "code",
   "execution_count": 10,
   "id": "3958664a",
   "metadata": {},
   "outputs": [
    {
     "name": "stdout",
     "output_type": "stream",
     "text": [
      "Review:  [0]\n",
      "I work at the video store that rents this video in Lexington and I must say...it should have never been made. I even know some of the people who worked on it who regret doing so. Bad effects, horrid acting, bad script especially. I swear the dialog wouldn't have passed for the original PSX Resident Evil; it's that bad. If you want to know how not to make a movie, watch this film to learn a thing or two. If not, don't waste your time. And even the director know it sucks because he keeps coming in to try to get us to upsale the movie. No sir. I've watched two-thirds of the horror section and this rates even lower than Plan 9 from Outer Space. Even Ed Eood would have said, \"Nope. That's too stupid even for me.\" \n",
      "\n",
      "Sentiment:  Neg \n",
      "\n",
      "\n",
      "Review:  [1]\n",
      "I really enjoy this movie. The first time it was on Turner Classic Movies. All the actors did very well but Brynner steals the show again like always ( he is so sexy!).This is one of the movie that you do see Brynner's emotions. Actually this movie this is the first I ever seen him laugh because he plays very strong, larger-than-life and serious roles in other movies. In this movie you see both a masculine, tough and sensitive side of Brynner .Brynner seems to be a \"ladies'man\" in this movie.That is amazing how Brynner eats the glass cup and speaks in his Russian tongue it drives me crazy in love. I don't understand when both Brynner and Kerr ( they both have very good chemistry) stars in a movie together and then Brynner always die at the end it kind of reminds you \"The King and I\" in a way. \n",
      "\n",
      "Sentiment:  Pos \n",
      "\n",
      "\n",
      "Review:  [2]\n",
      "In retrospect, the 1970s was a golden era for the American cinema, as demonstrated and explored by this documentary directed by Ted Demme and Richard LaGravenese. This IFC effort serves to illustrate and clarify the main idea of what that time meant for the careers of these illustrious people seen in the documentary.<br /><br />The amazing body of work that remains, is a legacy to all the people involved in the art of making movies in that period. The decade was marked by the end of the Viet Nam war and the turbulent finale of those years of Jimmy Carter's presidency.<br /><br />One thing comes out clear, films today don't measure against the movies that came out during that creative decade because the industry, as a whole, has changed dramatically. The big studios nowadays want to go to tame pictures that will be instant hits without any consideration to content, or integrity, as long as the bottom line shows millions of dollars in revenues.<br /><br />The other thing that emerges after hearing some of America's best creative minds speak, is the importance of the independent film spirit because it is about the only thing that afford its creators great moral and artistic rewards.<br /><br />This documentary is a must see for all movie fans. \n",
      "\n",
      "Sentiment:  Pos \n",
      "\n",
      "\n",
      "Review:  [3]\n",
      "I love the other reviews of this movie. They mirror my attitude. I am a 70's sort of guy, minus disco and \"Star Wars\" childishness. There was nothing great about this movie, except for a chase scene. That is why it was good, because it was tough, basic and economical. Roy Scheider carried the movie, which was based on the crew, the 7 Ups, that backed up Gene Hackman in the \"French Connection\". The people in it were believable and average, who burned themselves pouring coffee, showed fear in chase scene and almost lost it after a close call crash.<br /><br />Maybe it would be easier to tell you what it lacked. There was no fancy weapons, just basic revolvers and crude sawed off shotguns. There was no tough guy philosophizing, ala Tarantino. There was no kung fu or samurai nonsense and no fancy trick shooting either. There was no clever guy who carries out some complicated scheme based on hundreds of things going just the way he planned including everyone else's reactions. The criminals were bad guys but they didn't shoot people for the hell of it. As a matter of fact, there was a body count of just three. something that the average movie these days would pass in the opening credits. It could be a G movie today! No bus load of orphan school children were kidnapped nor were terrorists threatening to kill half of the city. There were no high tech hijinks, nor were the crimes themselves very moving or ingenious, the highest tech thing I saw was a touch tone ATT wall phone. It had no subplots or amusing character developments. Also, no sex or women, except for one mobster's wife who did some screaming as the Buddy our hero had her menaced.<br /><br />It was some little undertaker who exploited his connections with the local mob and the police to kidnap local mobsters for some easy payoffs. The undertakers. Vito, was played by Tony Lo Bianco who did a great job, as good as Roy Schneider, Buddy the head of 7 Ups cop, whom he informed and exploited. What ever happened to Tony Lo Bianco, he seemed like a Pacino shoe in, good looking and talented? What it did have was a great NYC backdrop to a simple crime story. Locations that were bleak and dehumanizing without being a sociological study. It had a simple plot that involved this kidnapping scheme where one of Buddy's cop got accidentally involved, literally accidentally dragged in then accidentally shot dead. Since Buddy and his 7 ups are a hot dogs unit, both the NYPD Brass and mobsters thought he was involved, since the kidnappers masqueraded as plain clothes cops to lure the mobsters into compliance. Obviously the mobsters figured they had lawyers and rights to protect them from normal police. Even the mobsters were plain, old and ugly, no Godfather royalty or Soprano hipness here.<br /><br />It is a good basic movie with a standout chase scene between two 70's d Pontiacs. Even the cars were plain and economical, not even a GTO or a Trans Am, like the acting and the story. In the days of Batman uber-hype or \"24\" levels of intensity doomsday scenarios, this movie reminds us that less is better. It should be shown to movie screen writers and directors as a caveat not to dazzle, amuse then ultimately insult us with stunts, gadgets and clown psychotic behavior galore. \n",
      "\n",
      "Sentiment:  Pos \n",
      "\n",
      "\n",
      "Review:  [4]\n",
      "This movie is just about as good as the first Jackass, but with slightly more disgusting skits. I wouldn't say this was as good as the first, but it came very close. Jackass fans will not be disappointed, but if you didn't like the first movie, you will hate this one. There are scenes that will be seen as Jackass classics (the elderly suits with \"additions\", the \"cab ride\", and many others), and those that you will wish you never watched (eating crap, drinking semen, etc...) Overall this movie was a good watch, and I am glad I got to see it. I'm sure this movie will not have the best rating due to critics that rate it (I sat in the press section and most of the older viewers seemed disgusted), but don't let that stop you from enjoying it. \n",
      "\n",
      "Sentiment:  Pos \n",
      "\n",
      "\n"
     ]
    }
   ],
   "source": [
    "for i in range(5):\n",
    "    print(\"Review: \", [i])\n",
    "    print(df['review'].iloc[i], \"\\n\")\n",
    "    print(\"Sentiment: \", df['sentiment'].iloc[i], \"\\n\\n\")\n",
    "  "
   ]
  },
  {
   "cell_type": "code",
   "execution_count": 11,
   "id": "f0b8f719",
   "metadata": {},
   "outputs": [
    {
     "data": {
      "text/html": [
       "<div>\n",
       "<style scoped>\n",
       "    .dataframe tbody tr th:only-of-type {\n",
       "        vertical-align: middle;\n",
       "    }\n",
       "\n",
       "    .dataframe tbody tr th {\n",
       "        vertical-align: top;\n",
       "    }\n",
       "\n",
       "    .dataframe thead th {\n",
       "        text-align: right;\n",
       "    }\n",
       "</style>\n",
       "<table border=\"1\" class=\"dataframe\">\n",
       "  <thead>\n",
       "    <tr style=\"text-align: right;\">\n",
       "      <th></th>\n",
       "      <th>review</th>\n",
       "      <th>sentiment</th>\n",
       "      <th>word count</th>\n",
       "    </tr>\n",
       "  </thead>\n",
       "  <tbody>\n",
       "    <tr>\n",
       "      <th>9733</th>\n",
       "      <td>I work at the video store that rents this vide...</td>\n",
       "      <td>Neg</td>\n",
       "      <td>139</td>\n",
       "    </tr>\n",
       "    <tr>\n",
       "      <th>6454</th>\n",
       "      <td>I really enjoy this movie. The first time it w...</td>\n",
       "      <td>Pos</td>\n",
       "      <td>151</td>\n",
       "    </tr>\n",
       "    <tr>\n",
       "      <th>7725</th>\n",
       "      <td>In retrospect, the 1970s was a golden era for ...</td>\n",
       "      <td>Pos</td>\n",
       "      <td>214</td>\n",
       "    </tr>\n",
       "    <tr>\n",
       "      <th>6679</th>\n",
       "      <td>I love the other reviews of this movie. They m...</td>\n",
       "      <td>Pos</td>\n",
       "      <td>576</td>\n",
       "    </tr>\n",
       "    <tr>\n",
       "      <th>12169</th>\n",
       "      <td>This movie is just about as good as the first ...</td>\n",
       "      <td>Pos</td>\n",
       "      <td>141</td>\n",
       "    </tr>\n",
       "  </tbody>\n",
       "</table>\n",
       "</div>"
      ],
      "text/plain": [
       "                                                  review sentiment  word count\n",
       "9733   I work at the video store that rents this vide...       Neg         139\n",
       "6454   I really enjoy this movie. The first time it w...       Pos         151\n",
       "7725   In retrospect, the 1970s was a golden era for ...       Pos         214\n",
       "6679   I love the other reviews of this movie. They m...       Pos         576\n",
       "12169  This movie is just about as good as the first ...       Pos         141"
      ]
     },
     "execution_count": 11,
     "metadata": {},
     "output_type": "execute_result"
    }
   ],
   "source": [
    "def no_of_words(text):\n",
    "    words= text.split()\n",
    "    word_count = len(words)\n",
    "    return word_count\n",
    "\n",
    "df['word count'] = df['review'].apply(no_of_words)\n",
    "df.head()\n",
    "\n",
    "#Cette fonction nous permettra de calculer le nombre de mots dans chaque commentaires, on l'utilisera pour comparer\n",
    "# le nombre de mots dans chaque commentaires après avoir retirer les éventuels doublon qui risquent de fausser notre modèle"
   ]
  },
  {
   "cell_type": "code",
   "execution_count": 12,
   "id": "b4a7bfed",
   "metadata": {},
   "outputs": [
    {
     "data": {
      "text/html": [
       "<div>\n",
       "<style scoped>\n",
       "    .dataframe tbody tr th:only-of-type {\n",
       "        vertical-align: middle;\n",
       "    }\n",
       "\n",
       "    .dataframe tbody tr th {\n",
       "        vertical-align: top;\n",
       "    }\n",
       "\n",
       "    .dataframe thead th {\n",
       "        text-align: right;\n",
       "    }\n",
       "</style>\n",
       "<table border=\"1\" class=\"dataframe\">\n",
       "  <thead>\n",
       "    <tr style=\"text-align: right;\">\n",
       "      <th></th>\n",
       "      <th>review</th>\n",
       "      <th>sentiment</th>\n",
       "      <th>word count</th>\n",
       "    </tr>\n",
       "  </thead>\n",
       "  <tbody>\n",
       "    <tr>\n",
       "      <th>9733</th>\n",
       "      <td>I work at the video store that rents this vide...</td>\n",
       "      <td>2</td>\n",
       "      <td>139</td>\n",
       "    </tr>\n",
       "    <tr>\n",
       "      <th>6454</th>\n",
       "      <td>I really enjoy this movie. The first time it w...</td>\n",
       "      <td>1</td>\n",
       "      <td>151</td>\n",
       "    </tr>\n",
       "    <tr>\n",
       "      <th>7725</th>\n",
       "      <td>In retrospect, the 1970s was a golden era for ...</td>\n",
       "      <td>1</td>\n",
       "      <td>214</td>\n",
       "    </tr>\n",
       "    <tr>\n",
       "      <th>6679</th>\n",
       "      <td>I love the other reviews of this movie. They m...</td>\n",
       "      <td>1</td>\n",
       "      <td>576</td>\n",
       "    </tr>\n",
       "    <tr>\n",
       "      <th>12169</th>\n",
       "      <td>This movie is just about as good as the first ...</td>\n",
       "      <td>1</td>\n",
       "      <td>141</td>\n",
       "    </tr>\n",
       "  </tbody>\n",
       "</table>\n",
       "</div>"
      ],
      "text/plain": [
       "                                                  review  sentiment  \\\n",
       "9733   I work at the video store that rents this vide...          2   \n",
       "6454   I really enjoy this movie. The first time it w...          1   \n",
       "7725   In retrospect, the 1970s was a golden era for ...          1   \n",
       "6679   I love the other reviews of this movie. They m...          1   \n",
       "12169  This movie is just about as good as the first ...          1   \n",
       "\n",
       "       word count  \n",
       "9733          139  \n",
       "6454          151  \n",
       "7725          214  \n",
       "6679          576  \n",
       "12169         141  "
      ]
     },
     "execution_count": 12,
     "metadata": {},
     "output_type": "execute_result"
    }
   ],
   "source": [
    "df.sentiment.replace(\"Pos\", 1, inplace=True)\n",
    "df.sentiment.replace(\"Neg\", 2, inplace=True)\n",
    "\n",
    "df.head()"
   ]
  },
  {
   "cell_type": "code",
   "execution_count": 13,
   "id": "5696d700",
   "metadata": {},
   "outputs": [],
   "source": [
    "def data_processing(text):\n",
    "    text= text.lower()\n",
    "    text = re.sub('', '', text)\n",
    "    text = re.sub(r\"https\\S+|www\\S+|http\\S+\", '', text, flags = re.MULTILINE)\n",
    "    text = re.sub(r'\\@w+|\\#', '', text)\n",
    "    text = re.sub(r'[^\\w\\s]', '', text)\n",
    "    text_tokens = word_tokenize(text)\n",
    "    filtered_text = [w for w in text_tokens if not w in stop_words]\n",
    "    return \" \".join(filtered_text)\n",
    "\n",
    "df.review = df['review'].apply(data_processing)"
   ]
  },
  {
   "cell_type": "code",
   "execution_count": 14,
   "id": "db21b8c2",
   "metadata": {},
   "outputs": [],
   "source": [
    "duplicated_count = df.duplicated().sum()"
   ]
  },
  {
   "cell_type": "code",
   "execution_count": 15,
   "id": "d54631a7",
   "metadata": {},
   "outputs": [],
   "source": [
    "df = df.drop_duplicates('review')"
   ]
  },
  {
   "cell_type": "code",
   "execution_count": 16,
   "id": "c8051769",
   "metadata": {},
   "outputs": [
    {
     "data": {
      "text/html": [
       "<div>\n",
       "<style scoped>\n",
       "    .dataframe tbody tr th:only-of-type {\n",
       "        vertical-align: middle;\n",
       "    }\n",
       "\n",
       "    .dataframe tbody tr th {\n",
       "        vertical-align: top;\n",
       "    }\n",
       "\n",
       "    .dataframe thead th {\n",
       "        text-align: right;\n",
       "    }\n",
       "</style>\n",
       "<table border=\"1\" class=\"dataframe\">\n",
       "  <thead>\n",
       "    <tr style=\"text-align: right;\">\n",
       "      <th></th>\n",
       "      <th>review</th>\n",
       "      <th>sentiment</th>\n",
       "      <th>word count</th>\n",
       "    </tr>\n",
       "  </thead>\n",
       "  <tbody>\n",
       "    <tr>\n",
       "      <th>9733</th>\n",
       "      <td>work video store rents video lexington must sa...</td>\n",
       "      <td>2</td>\n",
       "      <td>76</td>\n",
       "    </tr>\n",
       "    <tr>\n",
       "      <th>6454</th>\n",
       "      <td>really enjoy movie first time turner classic m...</td>\n",
       "      <td>1</td>\n",
       "      <td>72</td>\n",
       "    </tr>\n",
       "    <tr>\n",
       "      <th>7725</th>\n",
       "      <td>retrospect 1970s golden era american cinema de...</td>\n",
       "      <td>1</td>\n",
       "      <td>115</td>\n",
       "    </tr>\n",
       "    <tr>\n",
       "      <th>6679</th>\n",
       "      <td>love reviews movie mirror attitude 70s sort gu...</td>\n",
       "      <td>1</td>\n",
       "      <td>318</td>\n",
       "    </tr>\n",
       "    <tr>\n",
       "      <th>12169</th>\n",
       "      <td>movie good first jackass slightly disgusting s...</td>\n",
       "      <td>1</td>\n",
       "      <td>67</td>\n",
       "    </tr>\n",
       "  </tbody>\n",
       "</table>\n",
       "</div>"
      ],
      "text/plain": [
       "                                                  review  sentiment  \\\n",
       "9733   work video store rents video lexington must sa...          2   \n",
       "6454   really enjoy movie first time turner classic m...          1   \n",
       "7725   retrospect 1970s golden era american cinema de...          1   \n",
       "6679   love reviews movie mirror attitude 70s sort gu...          1   \n",
       "12169  movie good first jackass slightly disgusting s...          1   \n",
       "\n",
       "       word count  \n",
       "9733           76  \n",
       "6454           72  \n",
       "7725          115  \n",
       "6679          318  \n",
       "12169          67  "
      ]
     },
     "execution_count": 16,
     "metadata": {},
     "output_type": "execute_result"
    }
   ],
   "source": [
    "stemmer = PorterStemmer()\n",
    "def stemming(data):\n",
    "    text = [stemmer.stem(word) for word in data]\n",
    "    return data\n",
    "\n",
    "df.review = df['review'].apply(lambda x: stemming(x))\n",
    "df['word count'] = df['review'].apply(no_of_words)\n",
    "df.head()\n",
    "\n",
    "#En comparant le nombre de mots initials avec celui que nous avons à présent on voit bien que les doublons on bien étais retirés"
   ]
  },
  {
   "cell_type": "code",
   "execution_count": 17,
   "id": "e011f6f9",
   "metadata": {},
   "outputs": [],
   "source": [
    "pos_reviews =  df[df.sentiment == 1]\n",
    "\n",
    "\n",
    "neg_reviews =  df[df.sentiment == 2]"
   ]
  },
  {
   "cell_type": "code",
   "execution_count": 18,
   "id": "8d0888bb",
   "metadata": {},
   "outputs": [],
   "source": [
    "#Maintenant que les doublon sont retirés, regardons quels sont les 10 mots qui impacteront le plus notre modèle"
   ]
  },
  {
   "cell_type": "code",
   "execution_count": 19,
   "id": "f8cb110f",
   "metadata": {},
   "outputs": [
    {
     "data": {
      "text/html": [
       "<div>\n",
       "<style scoped>\n",
       "    .dataframe tbody tr th:only-of-type {\n",
       "        vertical-align: middle;\n",
       "    }\n",
       "\n",
       "    .dataframe tbody tr th {\n",
       "        vertical-align: top;\n",
       "    }\n",
       "\n",
       "    .dataframe thead th {\n",
       "        text-align: right;\n",
       "    }\n",
       "</style>\n",
       "<table border=\"1\" class=\"dataframe\">\n",
       "  <thead>\n",
       "    <tr style=\"text-align: right;\">\n",
       "      <th></th>\n",
       "      <th>word</th>\n",
       "      <th>count</th>\n",
       "    </tr>\n",
       "  </thead>\n",
       "  <tbody>\n",
       "    <tr>\n",
       "      <th>0</th>\n",
       "      <td>br</td>\n",
       "      <td>27603</td>\n",
       "    </tr>\n",
       "    <tr>\n",
       "      <th>1</th>\n",
       "      <td>film</td>\n",
       "      <td>19731</td>\n",
       "    </tr>\n",
       "    <tr>\n",
       "      <th>2</th>\n",
       "      <td>movie</td>\n",
       "      <td>17774</td>\n",
       "    </tr>\n",
       "    <tr>\n",
       "      <th>3</th>\n",
       "      <td>one</td>\n",
       "      <td>12967</td>\n",
       "    </tr>\n",
       "    <tr>\n",
       "      <th>4</th>\n",
       "      <td>like</td>\n",
       "      <td>8385</td>\n",
       "    </tr>\n",
       "  </tbody>\n",
       "</table>\n",
       "</div>"
      ],
      "text/plain": [
       "    word  count\n",
       "0     br  27603\n",
       "1   film  19731\n",
       "2  movie  17774\n",
       "3    one  12967\n",
       "4   like   8385"
      ]
     },
     "execution_count": 19,
     "metadata": {},
     "output_type": "execute_result"
    }
   ],
   "source": [
    "#Sur le commentaire positifs\n",
    "\n",
    "from collections import Counter\n",
    "count = Counter()\n",
    "for text in pos_reviews['review'].values:\n",
    "    for word in text.split():\n",
    "        count[word] +=1\n",
    "count.most_common(10)\n",
    "\n",
    "pos_words = pd.DataFrame(count.most_common(10))\n",
    "pos_words.columns = ['word', 'count']\n",
    "pos_words.head()"
   ]
  },
  {
   "cell_type": "code",
   "execution_count": 20,
   "id": "9f0ca596",
   "metadata": {},
   "outputs": [
    {
     "data": {
      "text/html": [
       "<div>\n",
       "<style scoped>\n",
       "    .dataframe tbody tr th:only-of-type {\n",
       "        vertical-align: middle;\n",
       "    }\n",
       "\n",
       "    .dataframe tbody tr th {\n",
       "        vertical-align: top;\n",
       "    }\n",
       "\n",
       "    .dataframe thead th {\n",
       "        text-align: right;\n",
       "    }\n",
       "</style>\n",
       "<table border=\"1\" class=\"dataframe\">\n",
       "  <thead>\n",
       "    <tr style=\"text-align: right;\">\n",
       "      <th></th>\n",
       "      <th>word</th>\n",
       "      <th>count</th>\n",
       "    </tr>\n",
       "  </thead>\n",
       "  <tbody>\n",
       "    <tr>\n",
       "      <th>0</th>\n",
       "      <td>br</td>\n",
       "      <td>28652</td>\n",
       "    </tr>\n",
       "    <tr>\n",
       "      <th>1</th>\n",
       "      <td>movie</td>\n",
       "      <td>23612</td>\n",
       "    </tr>\n",
       "    <tr>\n",
       "      <th>2</th>\n",
       "      <td>film</td>\n",
       "      <td>17010</td>\n",
       "    </tr>\n",
       "    <tr>\n",
       "      <th>3</th>\n",
       "      <td>one</td>\n",
       "      <td>12361</td>\n",
       "    </tr>\n",
       "    <tr>\n",
       "      <th>4</th>\n",
       "      <td>like</td>\n",
       "      <td>10801</td>\n",
       "    </tr>\n",
       "  </tbody>\n",
       "</table>\n",
       "</div>"
      ],
      "text/plain": [
       "    word  count\n",
       "0     br  28652\n",
       "1  movie  23612\n",
       "2   film  17010\n",
       "3    one  12361\n",
       "4   like  10801"
      ]
     },
     "execution_count": 20,
     "metadata": {},
     "output_type": "execute_result"
    }
   ],
   "source": [
    "#Sur les commentaires négatifs\n",
    "\n",
    "count = Counter()\n",
    "for text in neg_reviews['review'].values:\n",
    "    for word in text.split():\n",
    "        count[word] +=1\n",
    "count.most_common(15)\n",
    "\n",
    "\n",
    "neg_words = pd.DataFrame(count.most_common(15))\n",
    "neg_words.columns = ['word', 'count']\n",
    "neg_words.head()"
   ]
  },
  {
   "cell_type": "code",
   "execution_count": 21,
   "id": "ea1b46b0",
   "metadata": {},
   "outputs": [],
   "source": [
    "#On constate que les mots sont les même, mais de taille différentes."
   ]
  },
  {
   "cell_type": "code",
   "execution_count": 22,
   "id": "b31d3d48",
   "metadata": {},
   "outputs": [],
   "source": [
    "#Construisons maintenant notre modèle\n",
    "\n",
    "X = df['review']\n",
    "Y = df['sentiment']\n",
    "\n",
    "vect = TfidfVectorizer()\n",
    "X = vect.fit_transform(df['review'])\n",
    "\n",
    "x_train, x_test, y_train, y_test = train_test_split(X, Y, test_size=0.3, random_state=42)\n"
   ]
  },
  {
   "cell_type": "code",
   "execution_count": 23,
   "id": "5e2c1dd5",
   "metadata": {},
   "outputs": [],
   "source": [
    "from sklearn.linear_model import LogisticRegression\n",
    "\n",
    "from sklearn.metrics import accuracy_score, classification_report, confusion_matrix\n"
   ]
  },
  {
   "cell_type": "code",
   "execution_count": 24,
   "id": "a14dbe1e",
   "metadata": {},
   "outputs": [
    {
     "name": "stdout",
     "output_type": "stream",
     "text": [
      "Test accuracy: 89.03%\n"
     ]
    }
   ],
   "source": [
    "logreg = LogisticRegression()\n",
    "logreg.fit(x_train, y_train)\n",
    "logreg_pred = logreg.predict(x_test)\n",
    "logreg_acc = accuracy_score(logreg_pred, y_test)\n",
    "print(\"Test accuracy: {:.2f}%\".format(logreg_acc*100))\n",
    "\n",
    "#Notre modèle atteint une précision de 89% sur 30% des données de test"
   ]
  },
  {
   "cell_type": "code",
   "execution_count": 25,
   "id": "c394e687",
   "metadata": {},
   "outputs": [
    {
     "name": "stdout",
     "output_type": "stream",
     "text": [
      "[[3379  363]\n",
      " [ 453 3245]]\n",
      "\n",
      "\n",
      "              precision    recall  f1-score   support\n",
      "\n",
      "           1       0.88      0.90      0.89      3742\n",
      "           2       0.90      0.88      0.89      3698\n",
      "\n",
      "    accuracy                           0.89      7440\n",
      "   macro avg       0.89      0.89      0.89      7440\n",
      "weighted avg       0.89      0.89      0.89      7440\n",
      "\n"
     ]
    }
   ],
   "source": [
    "#Réalisons notre matrices de confusions\n",
    "\n",
    "print(confusion_matrix(y_test, logreg_pred))\n",
    "print(\"\\n\")\n",
    "print(classification_report(y_test, logreg_pred))"
   ]
  },
  {
   "cell_type": "code",
   "execution_count": 26,
   "id": "6f6bd62b",
   "metadata": {},
   "outputs": [],
   "source": [
    "#Pour rendre notre modèle plus robuste on pourrait utiliser d'autre méthode d'évaluation comme\n",
    "#la régression multinomiale ou une SVM"
   ]
  },
  {
   "cell_type": "code",
   "execution_count": null,
   "id": "9c4f3e5a",
   "metadata": {},
   "outputs": [],
   "source": []
  }
 ],
 "metadata": {
  "kernelspec": {
   "display_name": "Python 3 (ipykernel)",
   "language": "python",
   "name": "python3"
  },
  "language_info": {
   "codemirror_mode": {
    "name": "ipython",
    "version": 3
   },
   "file_extension": ".py",
   "mimetype": "text/x-python",
   "name": "python",
   "nbconvert_exporter": "python",
   "pygments_lexer": "ipython3",
   "version": "3.9.7"
  }
 },
 "nbformat": 4,
 "nbformat_minor": 5
}
